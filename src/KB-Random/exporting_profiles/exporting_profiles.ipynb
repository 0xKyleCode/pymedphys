{
 "cells": [
  {
   "cell_type": "code",
   "execution_count": 6,
   "metadata": {},
   "outputs": [],
   "source": [
    "def read_sections(filename):\n",
    "    with open(filename, 'r') as file:\n",
    "        content = file.read()\n",
    "    \n",
    "    sections = content.split('$STOM')[1:]  # Discard the first empty section\n",
    "    \n",
    "    processed_sections = []\n",
    "    for section in sections:\n",
    "        section_parts = section.split('$ENOM')\n",
    "        processed_sections.append(section_parts[0].strip())\n",
    "    \n",
    "    return processed_sections\n",
    "\n",
    "filename = 'src\\KB-Random\\exporting_profiles\\P06_Open.ASC'\n",
    "sections = read_sections(filename)"
   ]
  },
  {
   "cell_type": "code",
   "execution_count": 67,
   "metadata": {},
   "outputs": [],
   "source": [
    "def find_lines_with_word(section, target_word):\n",
    "    result = []\n",
    "\n",
    "\n",
    "    lines = section.split('\\n')\n",
    "    matching_lines = [line for line in lines if target_word in line]\n",
    "    \n",
    "    if matching_lines:\n",
    "        result.append(matching_lines)\n",
    "    \n",
    "    return result\n",
    "\n",
    "def simplify_dimensions(input_str):\n",
    "    parts = input_str.split('x')\n",
    "    \n",
    "    simplified_parts = []\n",
    "    for part in parts:\n",
    "        number = int(part)\n",
    "        simplified_number = str(number // 10)  # Divide by 10\n",
    "        simplified_parts.append(simplified_number)\n",
    "    \n",
    "    simplified_str = 'x'.join(simplified_parts)\n",
    "    return simplified_str\n",
    "\n",
    "\n",
    "def find_field_size(section):\n",
    "    line = find_lines_with_word(section, 'FLSZ')\n",
    "    field_size = line[0][0].split(' ')[-1]\n",
    "    field_size = field_size.replace(f\"*\", \"x\")\n",
    "    field_size = simplify_dimensions(field_size)\n",
    "    return field_size\n",
    "\n",
    "def find_depth(section):\n",
    "    line = find_lines_with_word(section, 'DPTH')\n",
    "    depth = line[0][0].split(' ')[-1]\n",
    "    depth = int(depth)/10\n",
    "    return depth\n",
    "\n",
    "def process_number(num):\n",
    "    if isinstance(num, float) and num.is_integer():\n",
    "        return str(int(num))\n",
    "    \n",
    "    num_str = str(num)\n",
    "    if '.' in num_str:\n",
    "        num_str = num_str.replace('.', '0')\n",
    "    return num_str"
   ]
  },
  {
   "cell_type": "code",
   "execution_count": 69,
   "metadata": {},
   "outputs": [],
   "source": [
    "def create_section_files(sections):\n",
    "    for section in sections:\n",
    "        fs = find_field_size(section)\n",
    "        depth = find_depth(section)\n",
    "        with open(f\"src\\KB-Random\\exporting_profiles\\\\results\\\\6xfff_Open_Inline_{fs}_d{process_number(depth)}.ASC\", 'w') as file:\n",
    "            file.write(\"$NUMS 001\\n$STOM\\n\")\n",
    "            file.write(section)\n",
    "            file.write(\"\\n$ENOM\\n$ENOF\\n\")\n",
    "\n",
    "create_section_files(sections)"
   ]
  },
  {
   "cell_type": "code",
   "execution_count": null,
   "metadata": {},
   "outputs": [],
   "source": []
  }
 ],
 "metadata": {
  "kernelspec": {
   "display_name": ".venv",
   "language": "python",
   "name": "python3"
  },
  "language_info": {
   "codemirror_mode": {
    "name": "ipython",
    "version": 3
   },
   "file_extension": ".py",
   "mimetype": "text/x-python",
   "name": "python",
   "nbconvert_exporter": "python",
   "pygments_lexer": "ipython3",
   "version": "3.11.4"
  },
  "orig_nbformat": 4
 },
 "nbformat": 4,
 "nbformat_minor": 2
}
