{
 "cells": [
  {
   "cell_type": "code",
   "execution_count": 3,
   "metadata": {},
   "outputs": [],
   "source": [
    "import os\n",
    "import pandas as pd\n",
    "from machines.truebeam.truebeam_monthly import BCCAMonthlyTruebeamQA\n",
    "import constants.monthly.spreadsheet_definitions as ss_def\n",
    "from qa_tpk import testpack\n",
    "from openpyxl import load_workbook\n",
    "import xlwings as xw\n",
    "# Get the current directory\n",
    "current_dir: str = os.getcwd()\n",
    "file_name = r\"..\\data\\VIFIR_TB1_JUN_2023_P.xlsm\"\n"
   ]
  },
  {
   "cell_type": "code",
   "execution_count": 4,
   "metadata": {},
   "outputs": [
    {
     "name": "stdout",
     "output_type": "stream",
     "text": [
      "VIFIR_TB1_AUG_2023_P.xlsm\n",
      "('FIR', 'JUN', '2023', '_P')\n"
     ]
    }
   ],
   "source": [
    "print(BCCAMonthlyTruebeamQA.default_qa_name(\"fir\"))\n",
    "print(BCCAMonthlyTruebeamQA.get_sheet_info(file_name))"
   ]
  },
  {
   "cell_type": "code",
   "execution_count": 5,
   "metadata": {},
   "outputs": [],
   "source": [
    "\n",
    "book = xw.Book(file_name)\n",
    "plans = ss_def.ALL_PHOTON_PLAN\n"
   ]
  },
  {
   "cell_type": "code",
   "execution_count": 6,
   "metadata": {},
   "outputs": [],
   "source": [
    "plans = ss_def.QA_OUTPUT\n",
    "sheet = book.sheets['QATrack_Main']\n",
    "for plan in plans:\n",
    "    sheet.range(plan[1]).value = \"#!\" + plan[0]\n",
    "book.save()\n"
   ]
  },
  {
   "cell_type": "code",
   "execution_count": 7,
   "metadata": {},
   "outputs": [],
   "source": [
    "plan = ss_def.QA_OUTPUT\n",
    "\n",
    "oc = \"Output Constancy Reading (100 MU)\"\n",
    "ocs = []\n",
    "for measure in plan:\n",
    "    energy = measure[0].split('_')[1]\n",
    "    temp_dict = {\n",
    "        \"long\": energy + \" \" + oc,\n",
    "        \"short\": measure[0],\n",
    "        \"description\": energy + \" \" + oc,\n",
    "        \"track\": False,\n",
    "        \"sheet\": \"Main\",\n",
    "        \"type\": \"numeric\",\n",
    "        \"format\": \"%0.2f\",\n",
    "        \"category\": \"Dosimetry\",\n",
    "    }\n",
    "    ocs.append(temp_dict)\n",
    "\n",
    "sheet = book.sheets['QATrack_Definitions']\n",
    "last_row = sheet.range('A1').end('down').row\n",
    "headers = list(ocs[0].keys())\n",
    "for row_num, data_row in enumerate(ocs, start=last_row+1):\n",
    "    for col_num, header in enumerate(headers, start=1):\n",
    "        sheet.range((row_num, col_num)).value = data_row[header]\n",
    "\n"
   ]
  },
  {
   "cell_type": "code",
   "execution_count": 8,
   "metadata": {},
   "outputs": [],
   "source": [
    "plan = ss_def.QA_OUTPUT_RESULTS\n",
    "\n",
    "oc = \"Output Constancy Dose (100 MU)\"\n",
    "ocs = []\n",
    "for measure in plan:\n",
    "    energy = measure[0].split('_')[1]\n",
    "    temp_dict = {\n",
    "        \"long\": energy + \" \" + oc,\n",
    "        \"short\": measure[0],\n",
    "        \"description\": energy + \" \" + oc,\n",
    "        \"track\": True,\n",
    "        \"sheet\": \"Main\",\n",
    "        \"type\": \"calculation\",\n",
    "        \"format\": \"%0.2f\",\n",
    "        \"category\": \"Dosimetry\",\n",
    "    }\n",
    "    ocs.append(temp_dict)\n",
    "\n",
    "sheet = book.sheets['QATrack_Definitions']\n",
    "last_row = sheet.range('A1').end('down').row\n",
    "headers = list(ocs[0].keys())\n",
    "for row_num, data_row in enumerate(ocs, start=last_row+1):\n",
    "    for col_num, header in enumerate(headers, start=1):\n",
    "        sheet.range((row_num, col_num)).value = data_row[header]\n",
    "\n"
   ]
  },
  {
   "cell_type": "code",
   "execution_count": 9,
   "metadata": {},
   "outputs": [],
   "source": [
    "book.save()"
   ]
  },
  {
   "cell_type": "code",
   "execution_count": 1,
   "metadata": {},
   "outputs": [],
   "source": [
    "import os\n",
    "from qa_tpk import testpack\n",
    "# Get the current directory\n",
    "current_dir: str = os.getcwd()\n",
    "file_name = r\"..\\data\\VIFIR_TB1_JUN_2023_P.xlsm\"\n",
    "\n",
    "tpk = testpack.BCCATestpack().make_test_tpk(file_name)\n",
    "\n",
    "testpack.BCCATestpack().write_test_tpk(tpk, os.path.join(current_dir, '..','data', 'test.tpk'))"
   ]
  },
  {
   "cell_type": "code",
   "execution_count": null,
   "metadata": {},
   "outputs": [],
   "source": []
  }
 ],
 "metadata": {
  "kernelspec": {
   "display_name": ".venv",
   "language": "python",
   "name": "python3"
  },
  "language_info": {
   "codemirror_mode": {
    "name": "ipython",
    "version": 3
   },
   "file_extension": ".py",
   "mimetype": "text/x-python",
   "name": "python",
   "nbconvert_exporter": "python",
   "pygments_lexer": "ipython3",
   "version": "3.11.4"
  },
  "orig_nbformat": 4
 },
 "nbformat": 4,
 "nbformat_minor": 2
}
