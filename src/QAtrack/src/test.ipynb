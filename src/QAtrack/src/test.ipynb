{
 "cells": [
  {
   "cell_type": "code",
   "execution_count": 1,
   "metadata": {},
   "outputs": [],
   "source": [
    "import os\n",
    "from constants.truebeam.monthly import BCCAMonthlyTruebeamQA\n",
    "import test_lists.truebeam.monthly.excel.spreadsheet_definitions as ss_def\n",
    "\n",
    "# Get the current directory\n",
    "current_dir: str = os.getcwd()\n",
    "file_name = os.path.join(current_dir, \"src\", \"QAtrack\", \"data\", \"VIFIR_TB1_JUN_2023_P.xlsm\")"
   ]
  },
  {
   "cell_type": "code",
   "execution_count": null,
   "metadata": {},
   "outputs": [],
   "source": [
    "machine = BCCAMonthlyTruebeamQA(file_name)"
   ]
  },
  {
   "cell_type": "code",
   "execution_count": null,
   "metadata": {},
   "outputs": [],
   "source": [
    "result_file_name = os.path.join(current_dir, \"src\", \"QAtrack\", \"data\", \"monthly.tpk\")\n",
    "machine.make_testpack(result_file_name)\n"
   ]
  },
  {
   "cell_type": "code",
   "execution_count": 7,
   "metadata": {},
   "outputs": [
    {
     "ename": "KeyboardInterrupt",
     "evalue": "",
     "output_type": "error",
     "traceback": [
      "\u001b[1;31m---------------------------------------------------------------------------\u001b[0m",
      "\u001b[1;31mKeyboardInterrupt\u001b[0m                         Traceback (most recent call last)",
      "Cell \u001b[1;32mIn[7], line 5\u001b[0m\n\u001b[0;32m      3\u001b[0m \u001b[39mfor\u001b[39;00m plan \u001b[39min\u001b[39;00m plans:\n\u001b[0;32m      4\u001b[0m     \u001b[39mfor\u001b[39;00m measure \u001b[39min\u001b[39;00m plan[\u001b[39m'\u001b[39m\u001b[39mdata\u001b[39m\u001b[39m'\u001b[39m]:\n\u001b[1;32m----> 5\u001b[0m         sheet\u001b[39m.\u001b[39;49mrange(measure[\u001b[39m2\u001b[39;49m])\u001b[39m.\u001b[39;49mvalue \u001b[39m=\u001b[39m \u001b[39m\"\u001b[39m\u001b[39m#!\u001b[39m\u001b[39m\"\u001b[39m \u001b[39m+\u001b[39m measure[\u001b[39m0\u001b[39m]\n\u001b[0;32m      6\u001b[0m machine\u001b[39m.\u001b[39msave()\n",
      "File \u001b[1;32mc:\\Users\\kyle.bromma1\\Documents\\code\\pymedphys\\.venv\\Lib\\site-packages\\xlwings\\main.py:2411\u001b[0m, in \u001b[0;36mRange.value\u001b[1;34m(self, data)\u001b[0m\n\u001b[0;32m   2409\u001b[0m \u001b[39m@value\u001b[39m\u001b[39m.\u001b[39msetter\n\u001b[0;32m   2410\u001b[0m \u001b[39mdef\u001b[39;00m \u001b[39mvalue\u001b[39m(\u001b[39mself\u001b[39m, data):\n\u001b[1;32m-> 2411\u001b[0m     conversion\u001b[39m.\u001b[39;49mwrite(data, \u001b[39mself\u001b[39;49m, \u001b[39mself\u001b[39;49m\u001b[39m.\u001b[39;49m_options)\n",
      "File \u001b[1;32mc:\\Users\\kyle.bromma1\\Documents\\code\\pymedphys\\.venv\\Lib\\site-packages\\xlwings\\conversion\\__init__.py:101\u001b[0m, in \u001b[0;36mwrite\u001b[1;34m(value, rng, options, engine_name)\u001b[0m\n\u001b[0;32m     97\u001b[0m convert \u001b[39m=\u001b[39m options\u001b[39m.\u001b[39mget(\u001b[39m\"\u001b[39m\u001b[39mconvert\u001b[39m\u001b[39m\"\u001b[39m, \u001b[39mNone\u001b[39;00m)\n\u001b[0;32m     98\u001b[0m pipeline \u001b[39m=\u001b[39m (\n\u001b[0;32m     99\u001b[0m     accessors\u001b[39m.\u001b[39mget(convert, convert)\u001b[39m.\u001b[39mrouter(value, rng, options)\u001b[39m.\u001b[39mwriter(options)\n\u001b[0;32m    100\u001b[0m )\n\u001b[1;32m--> 101\u001b[0m ctx \u001b[39m=\u001b[39m ConversionContext(rng\u001b[39m=\u001b[39;49mrng, value\u001b[39m=\u001b[39;49mvalue, engine_name\u001b[39m=\u001b[39;49mengine_name)\n\u001b[0;32m    102\u001b[0m pipeline(ctx)\n\u001b[0;32m    103\u001b[0m \u001b[39mreturn\u001b[39;00m ctx\u001b[39m.\u001b[39mvalue\n",
      "File \u001b[1;32mc:\\Users\\kyle.bromma1\\Documents\\code\\pymedphys\\.venv\\Lib\\site-packages\\xlwings\\conversion\\framework.py:13\u001b[0m, in \u001b[0;36mConversionContext.__init__\u001b[1;34m(self, rng, value, engine_name)\u001b[0m\n\u001b[0;32m     10\u001b[0m     \u001b[39mself\u001b[39m\u001b[39m.\u001b[39mengine \u001b[39m=\u001b[39m xlwings\u001b[39m.\u001b[39mengines[engine_name]\n\u001b[0;32m     11\u001b[0m \u001b[39melse\u001b[39;00m:\n\u001b[0;32m     12\u001b[0m     \u001b[39m# rng can only be None if used via COM server UDFs\u001b[39;00m\n\u001b[1;32m---> 13\u001b[0m     \u001b[39mself\u001b[39m\u001b[39m.\u001b[39mengine \u001b[39m=\u001b[39m rng\u001b[39m.\u001b[39;49msheet\u001b[39m.\u001b[39;49mbook\u001b[39m.\u001b[39;49mapp\u001b[39m.\u001b[39mengine \u001b[39mif\u001b[39;00m rng \u001b[39melse\u001b[39;00m xlwings\u001b[39m.\u001b[39mengines[\u001b[39m\"\u001b[39m\u001b[39mexcel\u001b[39m\u001b[39m\"\u001b[39m]\n\u001b[0;32m     14\u001b[0m \u001b[39mself\u001b[39m\u001b[39m.\u001b[39mvalue \u001b[39m=\u001b[39m value\n\u001b[0;32m     15\u001b[0m \u001b[39m# used for markdown (could be replaced by handing the parsed ast from\u001b[39;00m\n\u001b[0;32m     16\u001b[0m \u001b[39m# the converter stage to the formatting stage\u001b[39;00m\n",
      "File \u001b[1;32mc:\\Users\\kyle.bromma1\\Documents\\code\\pymedphys\\.venv\\Lib\\site-packages\\xlwings\\main.py:1122\u001b[0m, in \u001b[0;36mBook.app\u001b[1;34m(self)\u001b[0m\n\u001b[0;32m   1115\u001b[0m \u001b[39m@property\u001b[39m\n\u001b[0;32m   1116\u001b[0m \u001b[39mdef\u001b[39;00m \u001b[39mapp\u001b[39m(\u001b[39mself\u001b[39m):\n\u001b[0;32m   1117\u001b[0m \u001b[39m    \u001b[39m\u001b[39m\"\"\"\u001b[39;00m\n\u001b[0;32m   1118\u001b[0m \u001b[39m    Returns an app object that represents the creator of the book.\u001b[39;00m\n\u001b[0;32m   1119\u001b[0m \n\u001b[0;32m   1120\u001b[0m \u001b[39m    .. versionadded:: 0.9.0\u001b[39;00m\n\u001b[0;32m   1121\u001b[0m \u001b[39m    \"\"\"\u001b[39;00m\n\u001b[1;32m-> 1122\u001b[0m     \u001b[39mreturn\u001b[39;00m App(impl\u001b[39m=\u001b[39m\u001b[39mself\u001b[39;49m\u001b[39m.\u001b[39;49mimpl\u001b[39m.\u001b[39;49mapp)\n",
      "File \u001b[1;32mc:\\Users\\kyle.bromma1\\Documents\\code\\pymedphys\\.venv\\Lib\\site-packages\\xlwings\\_xlwindows.py:845\u001b[0m, in \u001b[0;36mBook.app\u001b[1;34m(self)\u001b[0m\n\u001b[0;32m    843\u001b[0m \u001b[39m@property\u001b[39m\n\u001b[0;32m    844\u001b[0m \u001b[39mdef\u001b[39;00m \u001b[39mapp\u001b[39m(\u001b[39mself\u001b[39m):\n\u001b[1;32m--> 845\u001b[0m     \u001b[39mreturn\u001b[39;00m App(xl\u001b[39m=\u001b[39m\u001b[39mself\u001b[39;49m\u001b[39m.\u001b[39;49mxl\u001b[39m.\u001b[39;49mApplication)\n",
      "File \u001b[1;32mc:\\Users\\kyle.bromma1\\Documents\\code\\pymedphys\\.venv\\Lib\\site-packages\\xlwings\\_xlwindows.py:199\u001b[0m, in \u001b[0;36mCOMRetryObjectWrapper.__getattr__\u001b[1;34m(self, item)\u001b[0m\n\u001b[0;32m    197\u001b[0m \u001b[39mwhile\u001b[39;00m \u001b[39mTrue\u001b[39;00m:\n\u001b[0;32m    198\u001b[0m     \u001b[39mtry\u001b[39;00m:\n\u001b[1;32m--> 199\u001b[0m         v \u001b[39m=\u001b[39m \u001b[39mgetattr\u001b[39m(\u001b[39mself\u001b[39m\u001b[39m.\u001b[39m_inner, item)\n\u001b[0;32m    200\u001b[0m         \u001b[39mif\u001b[39;00m \u001b[39misinstance\u001b[39m(v, (CDispatch, CoClassBaseClass, DispatchBaseClass)):\n\u001b[0;32m    201\u001b[0m             \u001b[39mreturn\u001b[39;00m COMRetryObjectWrapper(v)\n",
      "File \u001b[1;32mc:\\Users\\kyle.bromma1\\Documents\\code\\pymedphys\\.venv\\Lib\\site-packages\\win32com\\client\\__init__.py:585\u001b[0m, in \u001b[0;36mDispatchBaseClass.__getattr__\u001b[1;34m(self, attr)\u001b[0m\n\u001b[0;32m    581\u001b[0m \u001b[39mif\u001b[39;00m args \u001b[39mis\u001b[39;00m \u001b[39mNone\u001b[39;00m:\n\u001b[0;32m    582\u001b[0m     \u001b[39mraise\u001b[39;00m \u001b[39mAttributeError\u001b[39;00m(\n\u001b[0;32m    583\u001b[0m         \u001b[39m\"\u001b[39m\u001b[39m'\u001b[39m\u001b[39m%s\u001b[39;00m\u001b[39m'\u001b[39m\u001b[39m object has no attribute \u001b[39m\u001b[39m'\u001b[39m\u001b[39m%s\u001b[39;00m\u001b[39m'\u001b[39m\u001b[39m\"\u001b[39m \u001b[39m%\u001b[39m (\u001b[39mrepr\u001b[39m(\u001b[39mself\u001b[39m), attr)\n\u001b[0;32m    584\u001b[0m     )\n\u001b[1;32m--> 585\u001b[0m \u001b[39mreturn\u001b[39;00m \u001b[39mself\u001b[39;49m\u001b[39m.\u001b[39;49m_ApplyTypes_(\u001b[39m*\u001b[39;49margs)\n",
      "File \u001b[1;32mc:\\Users\\kyle.bromma1\\Documents\\code\\pymedphys\\.venv\\Lib\\site-packages\\win32com\\client\\__init__.py:574\u001b[0m, in \u001b[0;36mDispatchBaseClass._ApplyTypes_\u001b[1;34m(self, dispid, wFlags, retType, argTypes, user, resultCLSID, *args)\u001b[0m\n\u001b[0;32m    572\u001b[0m \u001b[39mdef\u001b[39;00m \u001b[39m_ApplyTypes_\u001b[39m(\u001b[39mself\u001b[39m, dispid, wFlags, retType, argTypes, user, resultCLSID, \u001b[39m*\u001b[39margs):\n\u001b[0;32m    573\u001b[0m     \u001b[39mreturn\u001b[39;00m \u001b[39mself\u001b[39m\u001b[39m.\u001b[39m_get_good_object_(\n\u001b[1;32m--> 574\u001b[0m         \u001b[39mself\u001b[39;49m\u001b[39m.\u001b[39;49m_oleobj_\u001b[39m.\u001b[39;49mInvokeTypes(dispid, \u001b[39m0\u001b[39;49m, wFlags, retType, argTypes, \u001b[39m*\u001b[39;49margs),\n\u001b[0;32m    575\u001b[0m         user,\n\u001b[0;32m    576\u001b[0m         resultCLSID,\n\u001b[0;32m    577\u001b[0m     )\n",
      "\u001b[1;31mKeyboardInterrupt\u001b[0m: "
     ]
    }
   ],
   "source": [
    "plans = ss_def.ALL_MONTHLY_QA\n",
    "sheet = machine.get_sheet('QATrack_Main')\n",
    "for plan in plans:\n",
    "    for measure in plan['data']:\n",
    "        sheet.range(measure[2]).value = \"#!\" + measure[0]\n",
    "machine.save()\n"
   ]
  },
  {
   "cell_type": "code",
   "execution_count": null,
   "metadata": {},
   "outputs": [],
   "source": [
    "ocs = []\n",
    "for plan in plans:\n",
    "    for measure in plan['data']:\n",
    "        temp_dict = {\n",
    "            \"long\":  measure[1],\n",
    "            \"short\": measure[0],\n",
    "            \"description\": measure[1],\n",
    "            \"track\": False,\n",
    "            \"sheet\": \"Main\",\n",
    "            \"type\": \"numeric\",\n",
    "            \"format\": \"%0.3f\",\n",
    "            \"category\": \"Dosimetry\",\n",
    "        }\n",
    "\n",
    "        ocs.append(temp_dict)\n",
    "\n",
    "machine.insert_into_sheet('QATrack_Definitions', ocs)\n",
    "machine.save()"
   ]
  },
  {
   "cell_type": "code",
   "execution_count": null,
   "metadata": {},
   "outputs": [],
   "source": []
  },
  {
   "cell_type": "code",
   "execution_count": null,
   "metadata": {},
   "outputs": [],
   "source": []
  }
 ],
 "metadata": {
  "kernelspec": {
   "display_name": ".venv",
   "language": "python",
   "name": "python3"
  },
  "language_info": {
   "codemirror_mode": {
    "name": "ipython",
    "version": 3
   },
   "file_extension": ".py",
   "mimetype": "text/x-python",
   "name": "python",
   "nbconvert_exporter": "python",
   "pygments_lexer": "ipython3",
   "version": "3.11.5"
  },
  "orig_nbformat": 4
 },
 "nbformat": 4,
 "nbformat_minor": 2
}
