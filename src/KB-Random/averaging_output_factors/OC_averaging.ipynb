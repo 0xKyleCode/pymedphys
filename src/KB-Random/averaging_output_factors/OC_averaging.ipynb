{
 "cells": [
  {
   "cell_type": "code",
   "execution_count": 13,
   "metadata": {},
   "outputs": [],
   "source": [
    "import pandas as pd\n",
    "import io"
   ]
  },
  {
   "cell_type": "code",
   "execution_count": 24,
   "metadata": {},
   "outputs": [],
   "source": [
    "oak_name= 'viOAK_TB6_6FFF_output_factors.txt'\n",
    "spruce_name = 'viSpruce_TB5_6FFF_output_factors.txt'"
   ]
  },
  {
   "cell_type": "code",
   "execution_count": 25,
   "metadata": {},
   "outputs": [],
   "source": [
    "def get_oc_data(file_name: str) -> pd.DataFrame:\n",
    "    data = open(file_name, 'r').read()\n",
    "    lines = data.split('\\n')\n",
    "    # Find the line where the data starts. You may need to adjust this if your file format varies.\n",
    "    start_line = next(i for i, line in enumerate(lines) if line and line[0] == ' ')\n",
    "    # Join the lines back together into a single string, but only the lines from start_line onward\n",
    "    data_str = \"\\n\".join(lines[start_line:])\n",
    "    data_str\n",
    "    # Use a StringIO to mimic a file\n",
    "    data_file = io.StringIO(data_str)\n",
    "\n",
    "    # Read the data into pandas. The precise arguments to use here may depend on the exact format of your file.\n",
    "    df = pd.read_csv(data_file,  sep=\",\")\n",
    "    return df"
   ]
  },
  {
   "cell_type": "code",
   "execution_count": 48,
   "metadata": {},
   "outputs": [],
   "source": [
    "oak_df = get_oc_data(oak_name)\n",
    "spruce_df = get_oc_data(spruce_name)"
   ]
  },
  {
   "cell_type": "code",
   "execution_count": 76,
   "metadata": {},
   "outputs": [],
   "source": [
    "df_avg = ((oak_df+spruce_df) /2).round(4)\n",
    "\n",
    "df_avg.index = [str(index).rjust(3, ' ') for index in df_avg.index]\n",
    "\n",
    "header = '''%DATE 30-Jun-2023\n",
    "%BMTY PHO\n",
    "%TYPE OutputFactorTable\n",
    "%SourcePhantomDistance 900\n",
    "%DetectorDepth 100\n",
    "# DATA: 6FFF RDF at d=10cm\n",
    "'''\n",
    "\n",
    "with open('OC_averaging.txt', 'w') as f:\n",
    "    f.write(header)\n",
    "\n",
    "df_avg = df_avg.iloc[:, :-1]\n",
    "headers = \",\".join(df_avg.columns) + \",\\n\"\n",
    "\n",
    "# Open the file in write mode and write the headers\n",
    "with open('OC_averaging.txt', 'a') as f:\n",
    "    f.write(headers)\n",
    "csv_string = df_avg.to_csv(index=True, sep=',', header=False)\n",
    "\n",
    "# Add a comma at the end of each line.\n",
    "csv_string = csv_string.replace('\\r\\n', ',\\n')\n",
    "\n",
    "# Now write the string to a file.\n",
    "with open('OC_averaging.txt', 'a') as f:\n",
    "    f.write(csv_string)"
   ]
  },
  {
   "cell_type": "code",
   "execution_count": null,
   "metadata": {},
   "outputs": [],
   "source": []
  }
 ],
 "metadata": {
  "kernelspec": {
   "display_name": ".venv",
   "language": "python",
   "name": "python3"
  },
  "language_info": {
   "codemirror_mode": {
    "name": "ipython",
    "version": 3
   },
   "file_extension": ".py",
   "mimetype": "text/x-python",
   "name": "python",
   "nbconvert_exporter": "python",
   "pygments_lexer": "ipython3",
   "version": "3.11.4"
  },
  "orig_nbformat": 4
 },
 "nbformat": 4,
 "nbformat_minor": 2
}
