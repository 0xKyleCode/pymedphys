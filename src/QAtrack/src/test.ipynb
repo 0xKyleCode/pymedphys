{
 "cells": [
  {
   "cell_type": "code",
   "execution_count": 1,
   "metadata": {},
   "outputs": [],
   "source": [
    "import os\n",
    "from machines.truebeam.truebeam_monthly import BCCAMonthlyTruebeamQA\n",
    "import constants.monthly.instances.spreadsheet_definitions as ss_def\n",
    "# Get the current directory\n",
    "current_dir: str = os.getcwd()\n",
    "file_name = os.path.join(current_dir, \"src\", \"QAtrack\", \"data\", \"VIFIR_TB1_JUN_2023_P.xlsm\")\n",
    "plans = ss_def.ALL_PHOTON_PLAN"
   ]
  },
  {
   "cell_type": "code",
   "execution_count": 2,
   "metadata": {},
   "outputs": [
    {
     "data": {
      "text/plain": [
       "{'short_name': 'fir',\n",
       " 'long_name': 'VIFIR_TB1',\n",
       " 'model': 'TrueBeam',\n",
       " 'hd': False,\n",
       " 'id': 1}"
      ]
     },
     "execution_count": 2,
     "metadata": {},
     "output_type": "execute_result"
    }
   ],
   "source": [
    "machine = BCCAMonthlyTruebeamQA(file_name)\n",
    "machine.get_machine()"
   ]
  },
  {
   "cell_type": "markdown",
   "metadata": {},
   "source": []
  },
  {
   "cell_type": "code",
   "execution_count": 7,
   "metadata": {},
   "outputs": [],
   "source": [
    "plans = ss_def.QA_EDW\n",
    "\n",
    "sheet = machine.get_sheet('QATrack_Main')\n",
    "for plan in plans:\n",
    "    sheet.range(plan[1]).value = \"#!\" + plan[0]\n",
    "machine.save()\n"
   ]
  },
  {
   "cell_type": "code",
   "execution_count": 8,
   "metadata": {},
   "outputs": [],
   "source": [
    "plan = ss_def.QA_OUTPUT\n",
    "\n",
    "oc = \"Output Constancy Reading (100 MU)\"\n",
    "ocs = []\n",
    "for measure in plan:\n",
    "    energy = measure[0].split('_')[1]\n",
    "    temp_dict = {\n",
    "        \"long\": energy + \" \" + oc,\n",
    "        \"short\": measure[0],\n",
    "        \"description\": energy + \" \" + oc,\n",
    "        \"track\": False,\n",
    "        \"sheet\": \"Main\",\n",
    "        \"type\": \"numeric\",\n",
    "        \"format\": \"%0.2f\",\n",
    "        \"category\": \"Dosimetry\",\n",
    "    }\n",
    "    ocs.append(temp_dict)\n",
    "\n",
    "machine.insert_into_sheet('QATrack_Definitions', ocs)"
   ]
  },
  {
   "cell_type": "code",
   "execution_count": 9,
   "metadata": {},
   "outputs": [],
   "source": [
    "machine.save()"
   ]
  },
  {
   "cell_type": "code",
   "execution_count": 10,
   "metadata": {},
   "outputs": [],
   "source": [
    "result_file_name = os.path.join(current_dir, \"src\", \"QAtrack\", \"data\", \"test_tpk.tpk\")\n",
    "machine.make_testpack(result_file_name)"
   ]
  },
  {
   "cell_type": "code",
   "execution_count": null,
   "metadata": {},
   "outputs": [],
   "source": []
  }
 ],
 "metadata": {
  "kernelspec": {
   "display_name": ".venv",
   "language": "python",
   "name": "python3"
  },
  "language_info": {
   "codemirror_mode": {
    "name": "ipython",
    "version": 3
   },
   "file_extension": ".py",
   "mimetype": "text/x-python",
   "name": "python",
   "nbconvert_exporter": "python",
   "pygments_lexer": "ipython3",
   "version": "3.11.4"
  },
  "orig_nbformat": 4
 },
 "nbformat": 4,
 "nbformat_minor": 2
}
