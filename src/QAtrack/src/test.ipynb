{
 "cells": [
  {
   "cell_type": "code",
   "execution_count": 1,
   "metadata": {},
   "outputs": [],
   "source": [
    "import os\n",
    "from machines.truebeam.truebeam_monthly import BCCAMonthlyTruebeamQA\n",
    "import constants.monthly.instances.spreadsheet_definitions as ss_def\n",
    "\n",
    "# Get the current directory\n",
    "current_dir: str = os.getcwd()\n",
    "file_name = os.path.join(current_dir, \"src\", \"QAtrack\", \"data\", \"VIFIR_TB1_JUN_2023_P.xlsm\")"
   ]
  },
  {
   "cell_type": "code",
   "execution_count": 2,
   "metadata": {},
   "outputs": [],
   "source": [
    "machine = BCCAMonthlyTruebeamQA(file_name)"
   ]
  },
  {
   "cell_type": "code",
   "execution_count": 3,
   "metadata": {},
   "outputs": [],
   "source": [
    "result_file_name = os.path.join(current_dir, \"src\", \"QAtrack\", \"data\", \"test_tpk.tpk\")\n",
    "machine.make_testpack(result_file_name)\n"
   ]
  },
  {
   "cell_type": "code",
   "execution_count": 4,
   "metadata": {},
   "outputs": [],
   "source": [
    "plans = ss_def.QA_ELECTRON_DOSE\n",
    "\n",
    "sheet = machine.get_sheet('QATrack_Main')\n",
    "for plan in plans:\n",
    "    sheet.range(plan[1]).value = \"#!\" + plan[0]\n",
    "machine.save()\n"
   ]
  },
  {
   "cell_type": "code",
   "execution_count": 5,
   "metadata": {},
   "outputs": [],
   "source": [
    "plan = ss_def.QA_ELECTRON\n",
    "\n",
    "oc = \"Output Constancy Reading (100 MU)\"\n",
    "ocs = []\n",
    "for measure in plan:\n",
    "    energy = measure[0].split(\"_\")[1]\n",
    "    temp_dict = {\n",
    "        \"long\": energy + \" \" + oc,\n",
    "        \"short\": measure[0],\n",
    "        \"description\": energy + \" \" + oc,\n",
    "        \"track\": False,\n",
    "        \"sheet\": \"Main\",\n",
    "        \"type\": \"numeric\",\n",
    "        \"format\": \"%0.3f\",\n",
    "        \"category\": \"Dosimetry\",\n",
    "    }\n",
    "    ocs.append(temp_dict)\n",
    "\n",
    "machine.insert_into_sheet('QATrack_Definitions', ocs)\n",
    "machine.save()"
   ]
  },
  {
   "cell_type": "code",
   "execution_count": 8,
   "metadata": {},
   "outputs": [],
   "source": [
    "directory_path = os.path.join(current_dir, \"src\", \"QAtrack\", \"src\", \"qa_formulas\", \"monthly\", \"electron_output\")\n",
    "word_to_add = \"monthly_\""
   ]
  },
  {
   "cell_type": "code",
   "execution_count": 7,
   "metadata": {},
   "outputs": [],
   "source": [
    "for filename in os.listdir(directory_path):\n",
    "    if filename != \"__init__.py\":\n",
    "        file_path = os.path.join(directory_path, filename)\n",
    "        if not filename.startswith(word_to_add):\n",
    "            new_filename = word_to_add + filename\n",
    "            new_file_path = os.path.join(directory_path, new_filename)\n",
    "            os.rename(file_path, new_file_path)"
   ]
  },
  {
   "cell_type": "code",
   "execution_count": null,
   "metadata": {},
   "outputs": [],
   "source": []
  }
 ],
 "metadata": {
  "kernelspec": {
   "display_name": ".venv",
   "language": "python",
   "name": "python3"
  },
  "language_info": {
   "codemirror_mode": {
    "name": "ipython",
    "version": 3
   },
   "file_extension": ".py",
   "mimetype": "text/x-python",
   "name": "python",
   "nbconvert_exporter": "python",
   "pygments_lexer": "ipython3",
   "version": "3.11.4"
  },
  "orig_nbformat": 4
 },
 "nbformat": 4,
 "nbformat_minor": 2
}
