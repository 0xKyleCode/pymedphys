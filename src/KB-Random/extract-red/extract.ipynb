{
 "cells": [
  {
   "cell_type": "code",
   "execution_count": 1,
   "metadata": {},
   "outputs": [
    {
     "name": "stdout",
     "output_type": "stream",
     "text": [
      "Red channel extracted and saved as calib000_red_channel.tif\n",
      "Red channel extracted and saved as calib002_red_channel.tif\n",
      "Red channel extracted and saved as calib004_red_channel.tif\n",
      "Red channel extracted and saved as calib005_red_channel.tif\n",
      "Red channel extracted and saved as calib006_red_channel.tif\n",
      "Red channel extracted and saved as calib007_red_channel.tif\n",
      "Red channel extracted and saved as calib008_red_channel.tif\n",
      "Red channel extracted and saved as calib009_red_channel.tif\n",
      "Red channel extracted and saved as calib010_red_channel.tif\n",
      "Red channel extracted and saved as calib011_red_channel.tif\n",
      "Red channel extracted and saved as flood_red_channel.tif\n"
     ]
    }
   ],
   "source": [
    "import cv2\n",
    "import tkinter as tk\n",
    "from tkinter import filedialog\n",
    "import os\n",
    "\n",
    "# Create a function to extract the red channel from a TIFF image\n",
    "def extract_red_channel(tiff_file):\n",
    "    # Read the TIFF image\n",
    "    image = cv2.imread(tiff_file, cv2.IMREAD_UNCHANGED)\n",
    "\n",
    "    if image is not None:\n",
    "        # Extract the red channel\n",
    "        red_channel = image[:, :, 2]\n",
    "\n",
    "        # Save the red channel as a new image\n",
    "        filename = os.path.splitext(os.path.basename(tiff_file))[0]\n",
    "        red_channel_filename = f\"{filename}_red_channel.tif\"\n",
    "        cv2.imwrite(red_channel_filename, red_channel)\n",
    "        print(f\"Red channel extracted and saved as {red_channel_filename}\")\n",
    "    else:\n",
    "        print(f\"Failed to read {tiff_file}\")\n",
    "\n",
    "# Create a tkinter file dialog to select multiple TIFF files\n",
    "root = tk.Tk()\n",
    "root.withdraw()  # Hide the main tkinter window\n",
    "\n",
    "file_paths = filedialog.askopenfilenames(\n",
    "    title=\"Select TIFF files\",\n",
    "    filetypes=[(\"TIFF files\", \"*.tif *.tiff\")]\n",
    ")\n",
    "\n",
    "# Process selected TIFF files\n",
    "if file_paths:\n",
    "    for tiff_file in file_paths:\n",
    "        extract_red_channel(tiff_file)\n",
    "else:\n",
    "    print(\"No files selected\")\n",
    "\n",
    "# Close the tkinter window\n",
    "root.destroy()"
   ]
  },
  {
   "cell_type": "code",
   "execution_count": null,
   "metadata": {},
   "outputs": [],
   "source": []
  }
 ],
 "metadata": {
  "kernelspec": {
   "display_name": ".venv",
   "language": "python",
   "name": "python3"
  },
  "language_info": {
   "codemirror_mode": {
    "name": "ipython",
    "version": 3
   },
   "file_extension": ".py",
   "mimetype": "text/x-python",
   "name": "python",
   "nbconvert_exporter": "python",
   "pygments_lexer": "ipython3",
   "version": "3.11.5"
  },
  "orig_nbformat": 4
 },
 "nbformat": 4,
 "nbformat_minor": 2
}
