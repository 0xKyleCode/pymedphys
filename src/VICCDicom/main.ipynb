{
 "cells": [
  {
   "cell_type": "code",
   "execution_count": 1,
   "metadata": {},
   "outputs": [],
   "source": [
    "import pydicom as dicom\n",
    "import tkinter as tk\n",
    "from tkinter import filedialog"
   ]
  },
  {
   "cell_type": "code",
   "execution_count": 2,
   "metadata": {},
   "outputs": [],
   "source": [
    "def browse_file():\n",
    "    file_path = filedialog.askopenfilename(filetypes=[(\"DICOM files\", \"*.dcm\")])\n",
    "    if file_path:\n",
    "        dicom_dataset = dicom.dcmread(file_path, stop_before_pixels=True)\n",
    "\n",
    "        return dicom_dataset\n",
    "\n",
    "# Create the main window\n",
    "root = tk.Tk()\n",
    "root.withdraw()\n",
    "\n",
    "dicom_header = browse_file()\n",
    "\n",
    "root.destroy()"
   ]
  },
  {
   "cell_type": "code",
   "execution_count": 1,
   "metadata": {},
   "outputs": [],
   "source": [
    "import vic_pydicom.dicom as dicom"
   ]
  },
  {
   "cell_type": "code",
   "execution_count": null,
   "metadata": {},
   "outputs": [],
   "source": [
    "dicom."
   ]
  }
 ],
 "metadata": {
  "kernelspec": {
   "display_name": ".venv",
   "language": "python",
   "name": "python3"
  },
  "language_info": {
   "codemirror_mode": {
    "name": "ipython",
    "version": 3
   },
   "file_extension": ".py",
   "mimetype": "text/x-python",
   "name": "python",
   "nbconvert_exporter": "python",
   "pygments_lexer": "ipython3",
   "version": "3.11.6"
  }
 },
 "nbformat": 4,
 "nbformat_minor": 2
}
